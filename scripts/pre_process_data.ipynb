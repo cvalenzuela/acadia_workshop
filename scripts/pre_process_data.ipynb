{
 "cells": [
  {
   "cell_type": "markdown",
   "metadata": {},
   "source": [
    "# Preparing data for SketchRNN and ml5.js"
   ]
  },
  {
   "cell_type": "code",
   "execution_count": 1,
   "metadata": {},
   "outputs": [],
   "source": [
    "import json\n",
    "from pprint import pprint\n",
    "from rdp import rdp\n",
    "import numpy as np"
   ]
  },
  {
   "cell_type": "code",
   "execution_count": 3,
   "metadata": {},
   "outputs": [],
   "source": [
    "# File paths\n",
    "simulation_large = \"../data/simulation_large.txt\"\n",
    "simulation = \"../data/simulation_large.json\"\n",
    "training = \"../data/simulation_large_traininng.txt\"\n",
    "one_line = \"../data/one_line.json\""
   ]
  },
  {
   "cell_type": "code",
   "execution_count": 4,
   "metadata": {},
   "outputs": [],
   "source": [
    "# Utils\n",
    "def map(value, leftMin, leftMax, rightMin, rightMax):\n",
    "    # Figure out how 'wide' each range is\n",
    "    leftSpan = leftMax - leftMin\n",
    "    rightSpan = rightMax - rightMin\n",
    "\n",
    "    # Convert the left range into a 0-1 range (float)\n",
    "    valueScaled = float(value - leftMin) / float(leftSpan)\n",
    "\n",
    "    # Convert the 0-1 range into a value in the right range.\n",
    "    return float(rightMin + (valueScaled * rightSpan))\n",
    "\n",
    "def rgb2hex(r,g,b):\n",
    "    return f'{int(round(r)):02x}{int(round(g)):02x}{int(round(b)):02x}'"
   ]
  },
  {
   "cell_type": "code",
   "execution_count": 6,
   "metadata": {},
   "outputs": [],
   "source": [
    "# Open the original file (not in JSON)\n",
    "original_file = open(simulation_large) \n",
    "num_lines = sum(1 for line in open(simulation_large))\n",
    "json_data = {\n",
    "    \"lines\": [],\n",
    "    \"colors\": []\n",
    "}\n",
    "lines_for_training = []\n",
    "\n",
    "# every line path is store as one json line \n",
    "for i, line in enumerate(original_file):\n",
    "    line = json.loads(line)\n",
    "    name = \"line_{}\".format(i)\n",
    "    #json_data[\"colors\"].append(line[name][\"colors\"][0])\n",
    "    r = map(line[name][\"colors\"][0][0], 0, 1, 0, 255)\n",
    "    g = map(line[name][\"colors\"][0][1], 0, 1, 0, 255)\n",
    "    b = map(line[name][\"colors\"][0][2], 0, 1, 0, 255)\n",
    "    json_data['colors'].append(rgb2hex(r,g,b))\n",
    "       \n",
    "    # apply Ramer-Douglas-Peucker stroke simplification\n",
    "    reduce_positions = rdp(line[name][\"positions\"], epsilon=0.1)\n",
    "    positions = []\n",
    "    x = 0\n",
    "    y = 0\n",
    "\n",
    "    for index, pos in enumerate(reduce_positions):\n",
    "        dx = map(pos[0], -100, 100, 0, 100)\n",
    "        dy = map(pos[1], -100, 100, 0, 100)\n",
    "        dx = float(\"{0:.2f}\".format(dx- x));\n",
    "        dy = float(\"{0:.2f}\".format(dy - y));\n",
    "        z = 0\n",
    "        if index == 0:\n",
    "            z = 1\n",
    "        \n",
    "        if index != 0:\n",
    "            positions.append([dx, dy, z])\n",
    "\n",
    "        x = x + dx\n",
    "        y = y + dy\n",
    "    \n",
    "    lines_for_training.append(np.array(positions, dtype='float16'))\n",
    "    json_data['lines'].append(positions)\n",
    "        \n",
    "original_file.close()\n",
    "\n",
    "# Save new file in json\n",
    "with open(simulation, 'w') as outfile:\n",
    "    json.dump(json_data, outfile) \n"
   ]
  },
  {
   "cell_type": "code",
   "execution_count": 13,
   "metadata": {},
   "outputs": [
    {
     "name": "stdout",
     "output_type": "stream",
     "text": [
      "1196 71 71 1054\n",
      "900 150 150\n"
     ]
    }
   ],
   "source": [
    "# Save data to train\n",
    "split_perc = 0.06\n",
    "total_amount = len(lines_for_training)\n",
    "\n",
    "validation_amount = int(total_amount*split_perc)\n",
    "test_amount = int(total_amount*split_perc)\n",
    "train_amount = total_amount - test_amount - validation_amount\n",
    "print(total_amount, validation_amount, test_amount, train_amount)\n",
    "\n",
    "train_data = lines_for_training[0:900]\n",
    "validation_data = lines_for_training[900:1050]\n",
    "test_data = lines_for_training[1046:]\n",
    "print(len(train_data), len(validation_data), len(test_data))\n",
    "\n",
    "# save to sketch rnn file\n",
    "filename = \"../data/data_for_sketchRNN_trainingv2.npz\"\n",
    "np.savez_compressed(filename, train=train_data, valid=validation_data, test=test_data)"
   ]
  },
  {
   "cell_type": "code",
   "execution_count": 11,
   "metadata": {},
   "outputs": [
    {
     "data": {
      "text/plain": [
       "array([[-0.85,  0.17,  0.  ],\n",
       "       [-0.33,  0.36,  0.  ],\n",
       "       [-0.19,  0.72,  0.  ],\n",
       "       [-0.2 ,  0.32,  0.  ],\n",
       "       [-2.71,  1.54,  0.  ],\n",
       "       [-1.07,  0.33,  0.  ],\n",
       "       [-2.11,  0.27,  0.  ],\n",
       "       [-1.5 , -0.07,  0.  ],\n",
       "       [-2.92, -0.66,  0.  ],\n",
       "       [-0.55, -0.3 ,  0.  ],\n",
       "       [-0.58, -0.48,  0.  ],\n",
       "       [-1.08, -0.26,  0.  ],\n",
       "       [-0.33, -0.37,  0.  ],\n",
       "       [-0.27, -1.97,  0.  ],\n",
       "       [ 0.04, -1.  ,  0.  ],\n",
       "       [ 0.33, -1.47,  0.  ],\n",
       "       [ 0.15, -0.34,  0.  ],\n",
       "       [ 0.64, -0.76,  0.  ],\n",
       "       [ 0.54, -0.31,  0.  ],\n",
       "       [ 7.52, -2.33,  0.  ],\n",
       "       [ 5.23, -2.69,  0.  ],\n",
       "       [ 0.79, -0.61,  0.  ],\n",
       "       [ 0.51, -0.55,  0.  ],\n",
       "       [ 0.41, -0.63,  0.  ],\n",
       "       [ 0.37, -1.06,  0.  ],\n",
       "       [-0.19, -1.86,  0.  ],\n",
       "       [-0.19, -0.6 ,  0.  ],\n",
       "       [-0.53, -0.84,  0.  ],\n",
       "       [-0.29, -0.24,  0.  ],\n",
       "       [-0.36, -0.08,  0.  ],\n",
       "       [-0.46,  0.19,  0.  ],\n",
       "       [-0.22,  0.43,  0.  ],\n",
       "       [ 0.01,  0.25,  0.  ],\n",
       "       [ 0.66,  2.15,  0.  ],\n",
       "       [ 0.05,  0.37,  0.  ],\n",
       "       [-0.14,  0.73,  0.  ],\n",
       "       [-0.22,  0.46,  0.  ],\n",
       "       [-0.63,  0.59,  0.  ],\n",
       "       [-0.81,  0.32,  0.  ],\n",
       "       [-1.25,  0.01,  0.  ],\n",
       "       [-1.07, -0.34,  0.  ]], dtype=float16)"
      ]
     },
     "execution_count": 11,
     "metadata": {},
     "output_type": "execute_result"
    }
   ],
   "source": [
    "lines_for_training[0]"
   ]
  },
  {
   "cell_type": "code",
   "execution_count": null,
   "metadata": {},
   "outputs": [],
   "source": []
  }
 ],
 "metadata": {
  "kernelspec": {
   "display_name": "Python 3",
   "language": "python",
   "name": "python3"
  },
  "language_info": {
   "codemirror_mode": {
    "name": "ipython",
    "version": 3
   },
   "file_extension": ".py",
   "mimetype": "text/x-python",
   "name": "python",
   "nbconvert_exporter": "python",
   "pygments_lexer": "ipython3",
   "version": "3.6.0"
  }
 },
 "nbformat": 4,
 "nbformat_minor": 2
}
